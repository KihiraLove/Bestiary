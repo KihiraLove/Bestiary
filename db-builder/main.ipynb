{
 "cells": [
  {
   "cell_type": "code",
   "execution_count": 24,
   "metadata": {},
   "outputs": [],
   "source": [
    "import json\n",
    "import requests"
   ]
  },
  {
   "cell_type": "code",
   "execution_count": 25,
   "metadata": {},
   "outputs": [],
   "source": [
    "url = \"https://oldschool.runescape.wiki/api.php?\"\n",
    "\n",
    "\n",
    "category_request = {'list': 'categorymembers',\n",
    "            'cmtitle': 'Category:Monsters',\n",
    "            'action': 'query',\n",
    "            'format': 'json',\n",
    "            'cmlimit': '500'}\n",
    "\n",
    "page_request = {\n",
    "            \"action\": \"parse\",\n",
    "            \"prop\": \"wikitext\",\n",
    "            \"format\": \"json\"\n",
    "        }\n",
    "wiki_text = None\n",
    "\n",
    "custom_agent = {\n",
    "    'User-Agent': \"Bestiary-rl-plugin\",\n",
    "    'From': \"d.kertesz16@gmail.com\"\n",
    "}"
   ]
  },
  {
   "cell_type": "code",
   "execution_count": 26,
   "metadata": {},
   "outputs": [],
   "source": [
    "def extract_titles(query):\n",
    "    pages = []\n",
    "    for page_json in query:\n",
    "        if \"Category:\" in page_json['title']:\n",
    "            continue\n",
    "        pages.append(page_json['title'])\n",
    "    return pages"
   ]
  },
  {
   "cell_type": "code",
   "execution_count": 28,
   "metadata": {},
   "outputs": [
    {
     "name": "stdout",
     "output_type": "stream",
     "text": [
      "['A Doubt', 'Aberrant spectre', 'Abhorrent spectre', 'Abomination', 'Abyssal antibody', 'Abyssal demon', 'Abyssal guardian', 'Abyssal leech', 'Abyssal leech (The Scar)', 'Abyssal portal', 'Abyssal Sire', 'Abyssal walker', 'Abyssal walker (The Scar)', 'Acidic Araxyte', 'Acidic Bloodveld', 'Adamant dragon', 'Afflicted', 'Agile Scarab', 'Agile Warrior', 'Agrith Naar', 'Agrith-Na-Na', 'Ahrim the Blighted', 'Air elemental', 'Air wizard', 'Akkha', \"Akkha's Shadow\", 'Al Kharid warrior', 'Albino bat', 'Alchemical Hydra', 'Alexis', 'Alomone', 'Alrik', 'Ammonite Crab', 'Ancient Guardian', 'Ancient Guardian (Desert Treasure II)', 'Ancient Wizard', 'Ancient Wyvern', 'Ancient Zygomite', 'Angry barbarian spirit', 'Angry bear', 'Angry giant rat', 'Angry goblin', 'Angry unicorn', 'Animated Adamant Armour', 'Animated Black Armour', 'Animated Bronze Armour', 'Animated Iron Armour', 'Animated Mithril Armour', 'Animated Rune Armour', 'Animated spade', 'Animated Steel Armour', \"Animated steel armour (Tarn's Lair)\", 'Anja', 'Ankou', 'Apparition', 'Araxxor', 'Araxyte', 'Arcane Scarab', 'Archer (Ardougne)', 'Archer (Burthorpe)', 'Arianwyn', 'Armadylean guard', 'Armoured Foe', 'Armoured zombie', 'Arrg', 'Artio', 'Arzinian Avatar of Magic', 'Arzinian Avatar of Ranging', 'Arzinian Avatar of Strength', 'Assassin', 'Assassin (A Kingdom Divided)', 'Assassin (While Guthix Sleeps)', 'Asyn Shade', 'Asyn shadow (Temple Trekking)', 'Avatar of Creation', 'Avatar of Destruction', 'Aviansie', 'Awakened Altar', 'Ba-Ba', 'Baboon', 'Baboon Brawler', 'Baboon Mage', 'Baboon Shaman', 'Baboon Thrall', 'Baboon Thrower', 'Baby black dragon', 'Baby blue dragon', 'Baby blue dragon (20th Anniversary event)', 'Baby dragon (unused)', 'Baby green dragon', 'Baby impling', 'Baby red dragon', 'Baby red dragon (Construction)', 'Baby Roc', 'Baby tanglefoot', 'Balance Elemental', 'Balfrug Kreeyath', 'Bandit', 'Bandit (Bandit Camp)', 'Bandit (Pollnivneach)', 'Bandit (Shayzien)', 'Bandit (Varlamore)', 'Bandit champion', 'Bandosian guard', 'Banshee', 'Barbarian', 'Barbarian (Barbarian Camp)', 'Barbarian (historical)', 'Barbarian Warlord', 'Barbarian woman (historical)', 'Bark Blamish Snail', 'Barrelchest', 'Basilisk', 'Basilisk Knight', 'Basilisk Sentinel', 'Basilisk Youngling', 'Bat', 'Battle mage', 'Bear Cub', 'Bedabin Nomad Fighter', 'Bee Swarm (Deadman)', 'Berry', 'Berserk barbarian spirit', 'Big frog', 'Big Snake', 'Big Wolf', 'Billy Goat', 'Bird', 'Black bear', 'Black chinchompa (Hunter)', 'Black demon', 'Black demon (20th Anniversary event)', 'Black demon (The Grand Tree)', 'Black dragon', 'Black dragon (20th Anniversary event)', 'Black golem', 'Black Guard', 'Black Guard Berserker', 'Black Heather', 'Black jaguar', 'Black Knight', 'Black knight (Port Sarim Jail)', 'Black Knight (Wanted!)', 'Black Knight Titan', 'Black unicorn', 'Black unicorn Foal', 'Blessed giant rat', 'Blessed spider', 'Blood Blamish Snail', 'Blood jaguar', 'Blood Moon', 'Blood Reaver', 'Blood spawn', 'Bloodthirst rockslug', 'Bloodthirsty abomination', 'Bloodthirsty abyssal demon', 'Bloodthirsty banshee', 'Bloodthirsty basilisk', 'Bloodthirsty Basilisk Sentinel', 'Bloodthirsty Bloodveld', 'Bloodthirsty choke devil', 'Bloodthirsty Cockathrice', 'Bloodthirsty Crawler', 'Bloodthirsty Drake', 'Bloodthirsty gargoyle', 'Bloodthirsty hand', 'Bloodthirsty Hydra', 'Bloodthirsty Infernal pyrelord', 'Bloodthirsty Jelly', 'Bloodthirsty kurask', 'Bloodthirsty Mage', 'Bloodthirsty mutated Bloodveld', 'Bloodthirsty Nechryarch', 'Bloodthirsty Night beast', 'Bloodthirsty pyrelord', 'Bloodthirsty Repugnant spectre', 'Bloodthirsty Shadow Wyrm', 'Bloodthirsty smoke devil', 'Bloodthirsty spectre', 'Bloodthirsty Turoth', 'Bloodthirsty twisted banshee', 'Bloodthirsty warped Jelly', 'Bloodveld', 'Bloodworm', 'Blue dragon', 'Blue dragon (20th Anniversary event)', 'Blue Moon', 'Boar', 'Body Golem', 'Boris', 'Borrokar', 'Bouncer', 'Bouncer (ghost)', 'Brassican Mage', 'Brawler', 'Bree', 'Breoca', 'Brine rat', 'Broddi', 'Bronze dragon', 'Broodoo victim', 'Bruise Blamish Snail', 'Brutal black dragon', 'Brutal blue dragon', 'Brutal green dragon', 'Brutal red dragon', 'Bryophyta', 'Buffalo', 'Bunny', 'Bush snake', 'Callisto', 'Callisto (PvM Arena)', \"Calvar'ion\", 'Camp dweller', 'Carnivorous chinchompa', 'Catablepon', 'Cave abomination', 'Cave abomination (Deadman)', 'Cave bug', 'Cave crawler', 'Cave goblin (monster)', 'Cave goblin guard', 'Cave goblin miner', 'Cave horror', 'Cave kraken', 'Cave lizard', 'Cave slime', 'Ceolburg', 'Cerberus', 'Cerberus (Deadman)', 'Champion of Scabaras', 'Chaos druid', 'Chaos druid warrior', 'Chaos dwarf', 'Chaos Elemental', 'Chaos Elemental (PvM Arena)', 'Chaos Fanatic', 'Chaos Golem', 'Chaotic death spawn', 'Chasm Crawler', 'Chicken', 'Chicken (Tutorial Island)', 'Chinchompa (Hunter)', 'Choke devil', 'Chompy bird', 'Chronozon', 'City guard', 'Clivet', 'Cockathrice', 'Cockatrice', 'Colonel Radick', 'Colossal Chocco Chicken', 'Colossal Hydra', 'Commander Zilyana', 'Commander Zilyana (Deadman)', 'Commander Zilyana (PvM Arena)', 'Confused barbarian', 'Confusion beast', 'Corporeal Beast', 'Corrupt Lizardman', 'Corrupted Bat', 'Corrupted Bear', 'Corrupted Dark Beast', 'Corrupted Dragon', 'Corrupted Hunllef', 'Corrupted Rat', 'Corrupted Scorpion', 'Corrupted Spider', 'Corrupted Unicorn', 'Corrupted Wolf', 'Count Draynor', 'Count Draynor (Nightmare Zone)', 'Cow', 'Cow (Nightmare Zone)', 'Cow calf', 'Crab', 'Crawling Hand', 'Crazy archaeologist', 'Crimson sanguisphera', 'Crocodile', 'Crocodile (Tombs of Amascut)', 'Cruor', 'Crushing hand', 'Crypt rat', 'Crypt spider', 'Crystal impling', 'Crystalline Bat', 'Crystalline Bear', 'Crystalline Dark Beast', 'Crystalline Dragon', 'Crystalline Hunllef', 'Crystalline Rat', 'Crystalline Scorpion', 'Crystalline Spider', 'Crystalline Unicorn', 'Crystalline Wolf', 'Cuffs', 'Culinaromancer', 'Cultist', 'Cursed Baboon', 'Cuthbert', 'Cyclops', 'Cyclops (Ardougne Zoo)', 'Cyclops (Catacombs of Kourend)', 'Cyclops (God Wars Dungeon)', 'Dad', 'Dagannoth', 'Dagannoth (Construction)', 'Dagannoth (Horror from the Deep)', 'Dagannoth (Waterbirth Island)', 'Dagannoth fledgeling', 'Dagannoth mother', 'Dagannoth Prime', 'Dagannoth Prime (Deadman: Apocalypse)', 'Dagannoth Prime (PvM Arena)', 'Dagannoth Rex', 'Dagannoth Rex (Deadman: Apocalypse)', 'Dagannoth Rex (PvM Arena)', 'Dagannoth spawn', 'Dagannoth Supreme', 'Dagannoth Supreme (Deadman: Apocalypse)', 'Dagannoth Supreme (PvM Arena)', 'Damien Leucurte', 'Damis', 'Dark Ankou', 'Dark beast', 'Dark energy core', 'Dark warrior', 'Dark wizard', 'Dawn', 'Deadly red spider', 'Death spawn', 'Death wing', 'Deathly mage', 'Deathly ranger', 'Defiler', 'Delrith', 'Demon (Construction)', 'Demon of Balance', 'Demon of Darkness', 'Demon of Light', 'Demonic gorilla', 'Deranged archaeologist', 'Derwen', 'Derwen (Deadman: Apocalypse)', 'Desert Lizard', 'Desert Wolf', 'Dessourt', 'Dessous', 'Deviant spectre', 'Dharok the Wretched', 'Dharok the Wretched (Deadman: Apocalypse)', 'Dire Wolf', 'Disciple of Iban', \"Don't Know What\", 'Donny the lad', 'Doomion', 'Double agent', 'Dragon impling', 'Drake', 'Dreadborn Araxyte', 'Druid', 'Drunken man', 'Duck', 'Duckling', 'Duke', 'Duke Sucellus', 'Dungeon rat', 'Durial321', 'Durial321 (Deadman)', 'Dusk', 'Dust devil', 'Dwarf', 'Dwarf gang member', 'Eadburg', 'Earth elemental', 'Earth impling', 'Earth warrior', 'Earth warrior (RuneScape 2 Beta)', 'Earth Warrior Champion', 'Earth wizard', 'Eclectic impling', 'Eclipse Moon', 'Eduard', 'Einar', 'Elder Chaos druid', 'Elf Archer', 'Elf Warrior', \"Elidinis' Warden\", 'Elite Black Knight', 'Elite Dark Mage', 'Elite Dark Ranger', 'Elite Dark Warrior', 'Elite Khazard Guard', 'Elvarg', 'Embertailed jerboa', 'Enclave guard', 'Energy sprite', 'Enormous Tentacle', 'Enraged barbarian spirit', 'Enraged Boar', 'Ent', 'Entrana firebird', 'Essence impling', 'Essyllt', 'Evelot', 'Evil Chicken', 'Evil Chicken (Recipe for Disaster)', 'Evil Creature', 'Evil spirit', 'Experiment', 'Experiment No.2', 'Fareed', 'Farmer', 'Fear reaper', 'Feral Vampyre', 'Ferocious barbarian spirit', 'Fever spider', 'Fire elemental', 'Fire giant', 'Fire Warrior of Lesarkus', 'Fire wizard', 'Fiyr Shade', 'Flambeed', 'Flaming pyrelord', 'Flaming pyrelord (Deadman: Apocalyse)', 'Flawed Golem', 'Flesh Crawler', 'Flight Kilisa', 'Flockleader Geerin', 'Flower', 'Flower (A Night at the Theatre)', 'Foreman', 'Forester (Woodcutting Guild)', 'Forgotten Soul', 'Forgotten Soul (Soul Wars)', 'Fortress Guard', 'Fox', 'Fragment of Seren', 'Freidir', 'Fremennik warband archer', 'Fremennik warband berserker', 'Fremennik warband seer', 'Frenzied ice troll female', 'Frenzied ice troll grunt', 'Frenzied ice troll male', 'Frenzied ice troll runt', 'Frog', 'Frogeel', 'Fumus', 'Gadderanks', 'Galina', 'Galvek', 'Gang boss', 'Gangster', 'Gardener', 'Gargoyle', 'Gelatinnoth Mother', 'General Danknuck', 'General Graardor', 'General Graardor (Deadman: Apocalypse)', 'General Graardor (PvM Arena)', 'General Khazard', 'Georgy', 'Ghast', 'Ghost', 'Ghost (Grave of Scorpius)', 'Ghost (Lassar Undercity)', \"Ghost (Melzar's Maze)\", 'Ghoul', 'Ghoul Champion', 'Giant bat', 'Giant bat (Brine Rat Cavern)', 'Giant Champion', 'Giant crypt rat', 'Giant crypt spider', 'Giant frog', 'Giant goblin', 'Giant lobster', 'Giant lobster (Ghosts Ahoy)', 'Giant Mole', 'Giant Mole (PvM Arena)', 'Giant mosquito', 'Giant rat', 'Giant rat (Scurrius)', 'Giant rat (Tutorial Island)', 'Giant Roc', 'Giant Rock Crab', 'Giant rockslug', 'Giant Scarab', 'Giant Sea Snake', 'Giant skeleton (Shadow Dungeon)', \"Giant skeleton (Tarn's Lair)\", 'Giant snail', 'Giant spider', 'Glacies', 'Glod', 'Glough', 'Glowing crystal', 'Gnome', 'Gnome Archer', 'Gnome child', 'Gnome Driver', 'Gnome guard', 'Gnome Mage', 'Gnome troop', 'Gnome woman', 'Goat', 'Goblin', 'Goblin (Goblin Village)', 'Goblin (God Wars Dungeon)', 'Goblin (historical)', 'Goblin (Vault of War)', 'Goblin Champion', 'Goblin guard', 'Goblin lieutenant', 'Goblin raider', 'Golem (unused NPC)', 'Golem (Zalcano)', 'Gorad', 'Gorak', 'Gourmet impling', 'Grave scorpion', 'Great Olm', 'Greater abyssal demon', 'Greater abyssal demon (Deadman: Apocalypse)', 'Greater demon', 'Greater demon (20th Anniversary event)', 'Greater Nechryael', \"Greater Skeleton Hellhound (Calvar'ion)\", \"Greater Skeleton Hellhound (Vet'ion)\", 'Green dragon', 'Green Guard', 'Grey golem', 'Grimy Lizard', 'Grip', 'Grizzly bear', 'Grizzly bear (Escape Caves)', 'Grizzly bear cub', 'Growler', 'Growthling', 'Guard', 'Guard (Another Slice of H.A.M.)', 'Guard (Burthorpe)', 'Guard (Cave goblin)', 'Guard (Deadman Mode)', 'Guard (Death to the Dorgeshuun)', 'Guard (Desert Mining Camp)', \"Guard (Doric's hut)\", 'Guard (dwarf)', 'Guard (H.A.M. Storerooms)', 'Guard (Hosidius)', 'Guard (Port Sarim Jail)', 'Guard (Prifddinas)', 'Guard (Ranging Guild)', 'Guard (Shayzien)', 'Guard (unused)', 'Guard (Varlamore)', 'Guard Bandit', 'Guard dog', 'Guard dog (Construction)', 'Guardian (Chambers of Xeric)', 'Guardian Drake', 'Guardian of Armadyl', 'Gunthor the brave', 'Guthan the Infested', 'H.A.M. Archer', 'H.A.M. Guard', 'H.A.M. Mage', 'Halla (Miscellania)', 'Harpie Bug Swarm', 'Haze', 'Hazeel Cultist', 'Head (Temple Trekking)', 'Head Guard', 'Head Menaphite Guard', 'Head Thief', 'Headless Beast', 'Hellhound', 'Hellhound (Construction)', 'Hengel', 'Hero', 'Hespori', 'Hespori (A Night at the Theatre)', 'Highwayman', 'Hill Giant', \"Hill Giant (Giants' Plateau)\", 'Hill Giant (Kourend)', 'Hill Giant (Varlamore)', 'Hobgoblin', 'Hobgoblin Champion', 'Hobgoblin guard', 'Holthion', 'Hoop Snake', 'Hopeless creature', 'Huge spider', 'Husk', \"Husk (Phosani's Nightmare)\", 'Hydra', 'Hygd', 'Ice demon', 'Ice giant', 'Ice Queen', 'Ice spider', 'Ice troll', 'Ice troll female', 'Ice troll grunt', 'Ice Troll King', 'Ice troll male', 'Ice troll runt', 'Ice warrior', 'Ice wolf', 'Icefiend', 'Icelord', 'Imp', 'Imp (unused)', 'Imp Champion', 'Imre', 'Infernal Mage', 'Infernal pyrelord', 'Insatiable Bloodveld', 'Insatiable mutated Bloodveld', 'Invrigar the Necromancer', 'Iorwerth Archer', 'Iorwerth Warrior', 'Irina', 'Iron dragon', 'Irvig Senay', 'Ithoi the Navigator', 'Jackal', 'Jaguar', 'Jaguar cub', 'Jaguar warrior', 'Jaguar warrior (Deadman)', 'Jail guard', 'Jailer', 'Jake', 'Jal-Ak', 'Jal-AkRek-Ket', 'Jal-AkRek-Mej', 'Jal-AkRek-Xil', 'Jal-ImKot', 'Jal-ImKot (Deadman: Apocalypse)', 'Jal-MejJak', 'Jal-MejRah', 'Jal-Nib', 'Jal-Xil', 'Jal-Zek', 'JalTok-Jad', 'Javelin Colossus', 'Jeff', 'Jelly', 'Jennella', 'Jhallan', 'Jogre', 'Jogre Champion', 'Jonny the beard', 'The Jormungand', 'Joseph', 'Jubbly bird', 'Jubster', 'Judge of Yama', 'Jungle Demon', 'Jungle horror', 'Jungle spider', 'Jungle spider (Ape Atoll)', 'Jungle Wolf', 'Justiciar Zachariah', 'Justiciar Zachariah (Deadman: Apocalypse)', \"K'ril Tsutsaroth\", \"K'ril Tsutsaroth (Deadman: Apocalypse)\", \"K'ril Tsutsaroth (PvM Arena)\", 'Kalphite Guardian', 'Kalphite Queen', 'Kalphite Queen (PvM Arena)', 'Kalphite Soldier', 'Kalphite soldier (Construction)', 'Kalphite Worker', 'Kalrag', 'Kamil', 'Karamel', 'Karil the Tainted', 'Kasonde', 'Kasonde the Craven', \"Kebbit (Eagles' Peak)\", 'Keef', 'Kephri', 'Ket-Zek', 'Ketla the Unworthy', 'Khazard commander', 'Khazard Guard', 'Khazard Ogre', 'Khazard Scorpion', 'Khazard trooper', 'Khazard warlord', 'Killerwatt', 'King Black Dragon', 'King black dragon (20th Anniversary event)', 'King Black Dragon (Deadman: Apocalypse)', 'King Black Dragon (PvM Arena)', 'King kurask', 'King Roald', 'King Sand Crab', 'King Scorpion', 'King Scorpion (20th Anniversary event)', 'Knight of Ardougne', 'Knight of Ardougne (Song of the Elves)', 'Knight of Ardougne (unused)', 'Knight of Saradomin', 'Knight of Varlamore', \"Knight of Varlamore (Twilight's Promise)\", 'Kob', 'Kolodion', 'Koschei the deathless', 'Kraka', 'Kraken', \"Kree'arra\", \"Kree'arra (Deadman: Apocalypse)\", \"Kree'arra (PvM Arena)\", 'Kroy', 'Kruk', 'Ksenia', 'Kurask', 'Lanzig', 'Large mosquito', 'Lava beast', 'Lava dragon', 'Leech', 'Lensa', \"Leon d'Cour\", 'Lesser demon', 'Lesser demon (20th Anniversary event)', \"Lesser demon (Melzar's Maze)\", 'Lesser demon (The Scar)', 'Lesser Demon Champion', 'Lev', 'The Leviathan', 'Liliya', 'Lizard', 'Lizard man (20th Anniversary event)', 'Lizardman', 'Lizardman brute', 'Lizardman shaman', 'Lizardman shaman (Chambers of Xeric)', 'Loar Shade', 'Lobstrosity', 'Locust', 'Locust rider', 'Long-tailed Wyvern', 'Lost barbarian', 'Lucien', 'Lucky impling', 'Lynx', 'Lynx Tamer', 'Magic axe', 'Magic Mark', 'Magpie impling', 'Malevolent Mage', 'Malevolent Mage (Deadman: Apocalypse)', 'Mammoth', 'Mammoth (unused NPC)', 'Man', 'Man (Canifis)', 'Man (East Ardougne)', 'Man (level 4)', 'Maniacal monkey', 'Maniacal Monkey Archer', 'Manticore', 'Marble gargoyle', 'Market Guard', 'Market Guard (Draynor)', 'Me', 'Medium Barrier', 'Melzar the Mad', 'Menaphite Akh', 'Menaphite Shadow', 'Menaphite Thug', 'Mercenary', 'Mercenary axeman', 'Mercenary Captain', 'Mercenary mage', 'Milla', 'The Mimic', 'Mind Golem', 'Minotaur', 'Minotaur (Fortis Colosseum)', 'Mirrorback Araxyte', 'Mithril dragon', 'Mogre', 'Molanisk', 'Monk', 'Monk of Zamorak', 'Monkey (monster)', 'Monkey Archer', 'Monkey Guard', 'Monkey Guard (ninja)', 'Monkey Zombie', 'Monster', 'Monstrous basilisk', 'Monstrous Basilisk (The Fremennik Exiles)', 'Moonlight Cockatrice', 'Mosquito swarm', 'Moss giant', 'Moss Guardian', 'Moss Guardian (Nightmare Zone)', 'Mosschin', 'Mother', 'Mountain troll', 'Mounted terrorbird gnome', 'Mourner', 'Mourner (boss)', 'Mourner (Song of the Elves)', 'Mouse', 'Mudskipper', 'Mugger', 'Mummy', 'Mummy (historical)', 'Mutated Bloodveld', 'Mutated Terrorbird', 'Mutated Tortoise', 'Muttadile', 'Myre Blamish Snail', 'Mysterious Figure', 'Nagua', 'Nail beast', 'Narf', 'Nature impling', 'Nazastarool', 'Nechryael', 'Nechryarch', 'Necromancer', 'Necromancer (Great Kourend)', 'Newtroost', 'Nex', 'Nezikchened', 'Night beast', 'Night beast (Deadman: Apocalypse)', 'The Nightmare', 'Nikita', 'Nikolai', 'Ninja impling', 'Nuclear smoke devil', 'Nylocas Athanatos', 'Nylocas Hagios', 'Nylocas Ischyros', 'Nylocas Matomenos', 'Nylocas Prinkipas', 'Nylocas Toxobolos', 'Nylocas Vasilias', 'Obelisk (Tombs of Amascut)', 'Obor', 'Ocga', 'Ochre Blamish Snail', 'Ogre', 'Ogre chieftain', 'Ogre shaman', 'Ogre shaman (Swan Song)', 'Ogress Shaman', 'Ogress Warrior', 'Oipuis', 'Oomlie bird', 'Orc (20th Anniversary event)', 'Orc (historical)', 'Ork', 'Oryx', 'Othainian', 'Otherworldly being', 'Ouhai', 'Outlaw', 'Overcharged Barrier', 'Padulah', 'Painted Goblin', 'Paladin', 'Paladin (Song of the Elves)', 'Palmer', 'Parasite', \"Parasite (Phosani's Nightmare)\", 'Passionate Supporter', 'Pee Hat', 'Penance Fighter', 'Penance Healer', 'Penance Queen', 'Penance Ranger', 'Penance Runner', 'Penda', 'Penguin (monster)', 'Persten the Deceitful', 'Pestilent Bloat', 'Phantom Hand', 'Phantom Muspah', 'Pheasant', \"Phosani's Nightmare\", 'Phrin Shade', 'Pirate', 'Pirate Guard', 'Pit Scorpion', 'Plague frog', 'Poison Scorpion', 'Poison spider', 'Poison spider (Escape Caves)', 'Poltenip', 'Porazdir', 'Porazdir (Deadman: Apocalypse)', 'Portal (Pest Control)', 'Possessed pickaxe', 'Possessed Priest', 'Pyrefiend', 'Pyrelord', 'Queen spawn', 'Rabbit', 'Rabbit (Prifddinas)', 'Radat', 'Radiant sanguisphera', 'Ragnar (Miscellania)', 'Ragnvald', 'Ram', 'Ranalph Devere', 'Ranging Ro', 'Ranis Drakan', 'Rannveig', 'Rat', 'Rat Boss Test NPC', 'Ravager', 'Reanimated abyssal', 'Reanimated aviansie', 'Reanimated bear', 'Reanimated bloodveld', 'Reanimated chaos druid', 'Reanimated dagannoth', 'Reanimated demon', 'Reanimated demon spawn', 'Reanimated dog', 'Reanimated dragon', 'Reanimated elf', 'Reanimated giant', 'Reanimated goblin', 'Reanimated hellhound', 'Reanimated horror', 'Reanimated imp', 'Reanimated kalphite', 'Reanimated minotaur', 'Reanimated monkey', 'Reanimated ogre', 'Reanimated scorpion', 'Reanimated troll', 'Reanimated TzHaar', 'Reanimated unicorn', 'Red dragon', 'Red dragon (20th Anniversary event)', 'Redeyes', 'Renegade knight', 'Repugnant spectre', 'Respiratory system', 'Revenant cyclops', 'Revenant dark beast', 'Revenant demon', 'Revenant dragon', 'Revenant goblin', 'Revenant hellhound', 'Revenant hobgoblin', 'Revenant imp', 'Revenant knight', 'Revenant maledictus', 'Revenant ork', 'Revenant pyrefiend', 'River troll', 'Riyl Shade', 'Riyl shadow (Temple Trekking)', 'Robert the Strong', 'Rock (Troll)', 'Rock Crab', 'Rock Golem (monster)', 'Rock lobster', 'Rockslug', 'Rocnar', 'Rogue', 'Rooster', 'Rowdy Guard', 'Rowdy slave', 'Rune dragon', 'Rune dragon (Construction)', 'Runite Golem', 'Ruptura Araxyte', 'Rusty', 'Salarin the twisted', 'San Tojalon', 'Sand Crab', 'Sand Snake', 'Sarachnis', 'Saradomin priest', 'Saradomin wizard', 'SAS Member', 'Scarab (Tombs of Amascut)', 'Scarab Mage', 'Scarab Swarm', 'Scarab Swarm (Beneath Cursed Sands)', 'Scarab Swarm (Tombs of Amascut)', 'Scarabs', 'Scarred black demon', 'Scarred greater demon', 'Scarred hellhound', 'Scarred imp', 'Scarred lesser demon', 'Scavenger beast', 'Scavenger runt', 'Scion', 'Scorpia', \"Scorpia's guardian\", \"Scorpia's offspring (monster)\", 'Scorpion', 'Scorpion (20th Anniversary event)', 'Screaming banshee', 'Screaming twisted banshee', 'Scurrius', 'Sea Snake Hatchling', 'Sea Snake Young', 'Sea troll', 'Sea Troll Queen', 'Seagull', 'Seagull (Icyene Graveyard)', 'Sergeant (Shayzien)', 'Sergeant Grimspike', 'Sergeant Steelwill', 'Sergeant Strongstack', 'Serpent shaman', 'Servant (Burthorpe)', 'Shade', 'Shade (Temple Trekking)', 'Shadow', 'Shadow Hound', 'Shadow Keeper', 'Shadow Rift', 'Shadow spider', 'Shadow warrior', 'Shadow warrior (RuneScape 2 Beta)', 'Shadow Wyrm', 'Shaeded Beast', 'Shantay Guard', 'Shifter', 'Shipyard worker', 'Shockwave Colossus', 'Sigmund', 'Sir Bedivere', 'Sir Carl', 'Sir Gawain', 'Sir Harry', 'Sir Jerro', 'Sir Kay', 'Sir Lancelot', 'Sir Leye', 'Sir Lucan', 'Sir Mordred', 'Sir Palomedes', 'Sir Pelleas', 'Sir Tristram', 'Skeletal miner', 'Skeletal Mystic', 'Skeletal Wyvern', 'Skeleton', 'Skeleton (Ape Atoll)', 'Skeleton (Barrows)', 'Skeleton (Catacombs of Kourend)', 'Skeleton (Draynor Manor)', 'Skeleton (Forthos Ruin)', \"Skeleton (Lucien's camp)\", 'Skeleton (mage)', \"Skeleton (Melzar's Maze)\", 'Skeleton (Shayzien Crypts)', 'Skeleton (Stronghold of Security)', \"Skeleton (Tarn's Lair)\", 'Skeleton (The Restless Ghost)', 'Skeleton (Wilderness Agility Course)', 'Skeleton (Wrath Altar)', 'Skeleton brute', 'Skeleton Champion', 'Skeleton fremennik', 'Skeleton guard', 'Skeleton heavy', 'Skeleton Hellhound', \"Skeleton Hellhound (Calvar'ion)\", \"Skeleton Hellhound (Vet'ion)\", 'Skeleton hero', 'Skeleton Mage', 'Skeleton thug', 'Skeleton warlord', 'Skoblin', 'Skogre', 'Skotizo', 'Skraeling (Etceteria)', 'Skraeling (Miscellania)', 'Slagilith', 'Slash Bash', 'Sleepwalker (monster)', \"Sleepwalker (Phosani's Nightmare)\", 'Slug Prince', 'Small Lizard', 'Smoke devil', 'Smokedevil', 'Snailfeet', 'Snake', 'Snake (Ape Atoll)', 'Snake (desert)', \"Snake (Mos Le'Harmless)\", 'Snake (Varlamore)', 'Snakeling', 'Snothead', 'Sofiya', 'Sol Heredit', 'Soldier (Burthorpe)', 'Soldier (Shayzien)', 'Soldier (tier 1)', 'Soldier (tier 2)', 'Soldier (tier 3)', 'Soldier (tier 4)', 'Soldier (tier 5)', 'Soldier (Yanille)', 'Soldier Scarab', 'Solus Dellagar', 'Sorebones', 'Sotetseg', 'Soulless', 'Sourhog', 'Sourhog (A Porcine of Interest)', 'Spawn', 'Spawn (Dragon Slayer II)', 'Spawn of Sarachnis', 'Speedy Keith', 'Spider', 'Spider (Ape Atoll)', 'Spider (Ungael)', 'Spidine', 'Spiked Turoth', 'Spindel', \"Spindel's Spiderling\", 'Spinner', 'Spinolyp', 'Spiritual mage', 'Spiritual ranger', 'Spiritual warrior', 'Spitting Scarab', 'Spitting Wyvern', 'Splatter', 'Stag', 'Starlight', 'Steel dragon', 'Steel dragon (Construction)', 'Stick', 'Stone Guardian', 'Strange Creature', 'Stranger', 'Strangled', 'Strangled Bear', 'Strangled Boar', 'Strangled Lynx', 'Strong Barrier', 'Strong Warrior', 'Strongbones', 'Strongest monster', 'Suit of armour', 'Sulphur Lizard', 'Sulphur Lizard (Deadman: Apocalypse)', 'Sulphur Nagua', 'Sulphur Nagua (Perilous Moons)', 'Summoned Zombie', 'Suqah', 'Surok Magis', 'Svetlana', 'Swamp Crab', 'Swamp frog', 'Swamp snake', 'Swordchick', 'Taloned Wyvern', 'Tanglefoot', 'Tar Monster', 'Target', 'Tarik (Nardah)', 'Tarn', 'Tekton', 'Temple Guardian', 'Temple Spider', 'Tentacle (Abyssal Sire)', 'Tentacle (Temple Trekking)', 'Terror dog', 'Terrorbird', 'The Draugen', 'The Everlasting', 'The Forsaken Assassin', 'The Illusive', 'The Inadequacy', 'The Kendal', 'The Maiden of Sugadinti', 'The Shaikahan', 'The Untouchable', 'Thermonuclear smoke devil', 'Thermonuclear smoke devil (Deadman)', 'Thief', 'Thief (Varlamore)', 'Thing under the bed', 'Third Age Mage', 'Third Age Ranger', 'Third Age Warrior', 'Thora (Miscellania)', 'Thorhild', 'Thrantax the Mighty', 'Thrower Troll', 'Thrower troll (Trollheim)', 'Thug', 'Tok-Xil', 'Tok-Xil (Construction)', 'Tolna', 'Torag the Corrupted', 'Torcher', 'Tormented Demon', 'Tormented Soul', 'Tormented Warrior', 'Tortoise', 'Tortured gorilla', 'Tortured soul', \"Totem (Phosani's Nightmare)\", 'Totem (The Nightmare)', 'Tough Guy', 'Tower Archer', 'Tower guard', 'Trapped Soul', 'Tree spirit', 'Tree spirit (Lost City)', 'Treus Dayth', 'Tribesman', 'Tribeswoman', 'Troll (20th Anniversary event)', 'Troll (Construction)', 'Troll (historical)', 'Troll general', 'Troll spectator', 'Tstanon Karlak', \"Tumeken's Warden\", 'Turoth', 'Twig', 'Twisted Banshee', 'Typhor', 'Tyras guard', 'Tz-Kek', 'Tz-Kih', 'TzHaar-Hur', 'TzHaar-Ket', 'TzHaar-Mej (monster)', 'TzHaar-Xil', 'TzKal-Zuk', 'TzTok-Jad', 'TzTok-Jad (Deadman)', 'TzTok-Jad (PvM Arena)', 'Ugthanki', 'Ulfric', 'Umbra', 'Unbound JalTok-Jad', 'Undead chicken', 'Undead cow', 'Undead Druid', 'Undead Lumberjack', 'Undead one', 'Undead Zealot', 'Ungadulu', 'Unicorn', 'Unicorn Foal', 'Unicow', 'Unusual Chicken', 'Uodai', 'Urium Shade', 'Uyoro', 'Valgerd', 'Vampyre Juvenile', 'Vampyre Juvinate', 'Vanguard', 'Vanstrom Klause', 'Vardorvis', 'Vardorvis (Deadman)', 'Vasa Nistirio', 'Venenatis', 'Venenatis (PvM Arena)', \"Venenatis' Spiderling (monster)\", 'Vera', 'Verac the Defiled', 'Verzik Vitur', 'Vespine soldier', 'Vespula', \"Vet'ion\", 'Vitreous Jelly', 'Vitreous warped Jelly', 'Vitreous warped Jelly (Deadman: Apocalypse)', 'Viyeldi', 'Void Knight (Pest Control)', 'Volatile Baboon', 'Vorkath', 'Vulture', 'Vyrewatch', 'Vyrewatch Sentinel', 'Wall beast', 'Wallasalki', 'Warped Jelly', 'Warped Terrorbird', 'Warped Tortoise', 'Warrior (Rellekka)', 'Warrior (Thieving)', 'Warrior of Murahs', 'Watchman', 'Watchman (random event)', 'Water elemental', 'Water wizard', 'Waterfiend', 'Weak Barrier', 'Weaponsmaster', 'Well-armed Foe', 'Werewolf', 'The Whisperer', 'White golem', 'White Knight', 'White Knight (Burthorpe)', 'White wolf', 'Wighted Leech', 'Wild dog', 'Wilson', 'Wingman Skree', 'Witch (monster)', \"Witch's experiment\", 'Wizard', 'Wolf', 'Wolf (Soul Wars)', 'Wolfman', 'Wolfwoman', 'Woman', 'Woman (Canifis)', 'Woman (East Ardougne)', 'Woman (historical)', 'Woman (West Ardougne)', 'Wormbrain', 'Wyrm', 'Wyrmling', 'Xamphur', 'Xarpus', 'Yadviga', 'Yak', 'Yeti', 'Young impling', 'Yrsa (Miscellania)', 'Yt-HurKot', 'Yt-MejKot', 'Yuri', \"Zakl'n Gritch\", 'Zalcano', 'Zamorak crafter', 'Zamorak mage', 'Zamorak ranger', 'Zamorak warrior', 'Zamorak wizard', 'Zebak', 'Zogre', 'Zoja', 'Zombie', 'Zombie (Entrana Dungeon)', \"Zombie (Melzar's Maze)\", 'Zombie (Sepulchre of Death)', 'Zombie (Shayzien Crypts)', \"Zombie (Tarn's Lair)\", 'Zombie (Temple Trekking)', 'Zombie (Zogre Flesh Eaters)', 'Zombie pirate', 'Zombie pirate (Braindeath Island)', 'Zombie pirate (Harmony Island)', 'Zombie rat', 'Zombie swab', 'Zombies Champion', 'Zombified Spawn', 'Zulrah', 'Zygomite']\n"
     ]
    }
   ],
   "source": [
    "last_continue = {}\n",
    "titles = []\n",
    "while True:\n",
    "    req = category_request.copy()\n",
    "    req.update(last_continue)\n",
    "    try:\n",
    "        result = requests.get(url,headers=custom_agent,params=req).json()\n",
    "    except requests.exceptions.RequestException as e:\n",
    "        raise SystemExit(\">>> ERROR: Get request error. Exiting.\") from e\n",
    "    if 'query' in result:\n",
    "        titles.extend(extract_titles(result['query']['categorymembers']))\n",
    "        if 'continue' not in result:\n",
    "            break\n",
    "    if 'errors' in result:\n",
    "        print(result['errors'])\n",
    "        break\n",
    "    if 'warnings' in result:\n",
    "        print(result['warnings'])\n",
    "        break\n",
    "    last_continue = result['continue']\n",
    "    \n",
    "print(titles)"
   ]
  },
  {
   "cell_type": "code",
   "execution_count": 29,
   "metadata": {},
   "outputs": [
    {
     "name": "stdout",
     "output_type": "stream",
     "text": [
      "{{External|rs}}\n",
      "{{Infobox Monster\n",
      "|name = A Doubt\n",
      "|image = [[File:A Doubt.png|220px]]\n",
      "|release = [[15 May]] [[2007]]\n",
      "|update = Dream Mentor\n",
      "|members = Yes\n",
      "|combat = 78\n",
      "|size = 1\n",
      "|examine = You can't escape your inadequacy!\n",
      "|xpbonus = \n",
      "|max hit = 8\n",
      "|aggressive = Yes\n",
      "|poisonous = No\n",
      "|attack style = [[Crush]]\n",
      "|attack speed = 6\n",
      "|hitpoints = 59\n",
      "|att = 72\n",
      "|str = 58\n",
      "|def = 85\n",
      "|mage = 1\n",
      "|range = 1\n",
      "|attbns = 18\n",
      "|strbns = 16\n",
      "|amagic = 0\n",
      "|mbns = 0\n",
      "|arange = 0 \n",
      "|rngbns = 0\n",
      "|dstab = 0\n",
      "|dslash = 0\n",
      "|dcrush = 0\n",
      "|dmagic = 0\n",
      "|drange = 0\n",
      "|immunepoison = Yes\n",
      "|immunevenom = Yes\n",
      "|id = 3477\n",
      "}}\n",
      "'''A Doubt''' is a [[monster]] fought during the [[Dream Mentor]] [[quest]] in the [[Dream World]]. Many Doubts are summoned during the first battle by [[The Inadequacy]]. They represent [[Cyrisus]], the protagonist, and his little nagging doubts about combat. Though they can be fought and killed easily, they disappear once the player defeats The Inadequacy.\n",
      "\n",
      "It is recommended to turn off [[auto-retaliate]] to avoid attacking Doubts, and avoid attacking them at all unless using [[blood spells]] to heal.\n",
      "\n",
      "==Location==\n",
      "{{Map|ptype=npc|x=1826|y=5148|mapID=10048|plane=0}}\n",
      "\n",
      "==Drops==\n",
      "===100%===\n",
      "{{DropsTableHead}}\n",
      "{{DropsLine|name=Bones|quantity=1|rarity=Always}}\n",
      "{{DropsTableBottom}}\n",
      "\n",
      "{{Dream Mentor}}\n",
      "[[Category:Quest monsters]]\n"
     ]
    }
   ],
   "source": [
    "p_req = page_request.copy()\n",
    "p_req.update({'page': 'A Doubt'})\n",
    "\n",
    "for attempt in range(10):\n",
    "    try:\n",
    "        page_data = requests.get(url, headers=custom_agent, params=p_req).json()\n",
    "        break\n",
    "    except requests.exceptions.RequestException as e:\n",
    "        raise SystemExit(\">>> ERROR: Get request error. Exiting.\") from e\n",
    "    except:\n",
    "        print(\">>> ERROR: Probably cloudflare 520\")\n",
    "\n",
    "try:\n",
    "    wiki_text = page_data[\"parse\"][\"wikitext\"][\"*\"]\n",
    "except KeyError:\n",
    "    wiki_text = None\n",
    "    \n",
    "print(wiki_text)"
   ]
  }
 ],
 "metadata": {
  "kernelspec": {
   "display_name": ".venv",
   "language": "python",
   "name": "python3"
  },
  "language_info": {
   "codemirror_mode": {
    "name": "ipython",
    "version": 3
   },
   "file_extension": ".py",
   "mimetype": "text/x-python",
   "name": "python",
   "nbconvert_exporter": "python",
   "pygments_lexer": "ipython3",
   "version": "3.11.9"
  }
 },
 "nbformat": 4,
 "nbformat_minor": 2
}
